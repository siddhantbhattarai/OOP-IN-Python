{
 "cells": [
  {
   "cell_type": "markdown",
   "metadata": {},
   "source": [
    "### Section 2: Python Basics Review\n",
    "\n",
    "#### Review of Python Basics:\n",
    "\n",
    "- **Variables and Data Types:**\n",
    "  - **Variables:** \n",
    "    - Variables are used to store data values. In Python, you can create a variable and assign a value to it using the syntax `variable_name = value`.\n",
    "    - Variables can store various types of data, including integers, floats, strings, booleans, lists, tuples, dictionaries, etc.\n",
    "    - Example:\n",
    "      ```python\n",
    "      # Variable assignment\n",
    "      x = 10\n",
    "      name = \"John\"\n",
    "      is_student = True\n",
    "      ```\n",
    "\n",
    "  - **Data Types:**\n",
    "    - Python supports several data types, including:\n",
    "      - Integer (`int`): Represents whole numbers without decimal points.\n",
    "      - Float (`float`): Represents numbers with decimal points.\n",
    "      - String (`str`): Represents textual data enclosed within single or double quotes.\n",
    "      - Boolean (`bool`): Represents True or False values.\n",
    "      - List (`list`): Represents an ordered collection of elements.\n",
    "      - Tuple (`tuple`): Represents an ordered, immutable collection of elements.\n",
    "      - Dictionary (`dict`): Represents a collection of key-value pairs.\n",
    "    - Example:\n",
    "      ```python\n",
    "      # Data types\n",
    "      age = 25              # int\n",
    "      height = 5.11         # float\n",
    "      name = \"Alice\"        # str\n",
    "      is_adult = True       # bool\n",
    "      numbers = [1, 2, 3]   # list\n",
    "      person = ('John', 30) # tuple\n",
    "      info = {'name': 'Alice', 'age': 25}  # dict\n",
    "      ```\n",
    "\n",
    "- **Control Flow Statements:**\n",
    "  - **if, elif, else:**\n",
    "    - The `if` statement is used to execute a block of code if a condition is true.\n",
    "    - The `elif` (else if) statement is used to specify multiple conditions to be checked sequentially.\n",
    "    - The `else` statement is used to execute a block of code if none of the preceding conditions are true.\n",
    "    - Example:\n",
    "      ```python\n",
    "      # If-elif-else statement\n",
    "      num = 10\n",
    "      if num > 0:\n",
    "          print(\"Positive\")\n",
    "      elif num < 0:\n",
    "          print(\"Negative\")\n",
    "      else:\n",
    "          print(\"Zero\")\n",
    "      ```\n",
    "\n",
    "  - **Loops:**\n",
    "    - **for loop:**\n",
    "      - The `for` loop is used to iterate over a sequence (such as a list, tuple, or string) and execute a block of code for each item in the sequence.\n",
    "      - Example:\n",
    "        ```python\n",
    "        # For loop\n",
    "        numbers = [1, 2, 3, 4, 5]\n",
    "        for num in numbers:\n",
    "            print(num)\n",
    "        ```\n",
    "\n",
    "    - **while loop:**\n",
    "      - The `while` loop is used to repeatedly execute a block of code as long as a specified condition is true.\n",
    "      - Example:\n",
    "        ```python\n",
    "        # While loop\n",
    "        count = 0\n",
    "        while count < 5:\n",
    "            print(count)\n",
    "            count += 1\n",
    "        ```\n",
    "\n",
    "#### Hands-on Labs:\n",
    "\n",
    "1. **Variable Manipulation:**\n",
    "   - Create variables of different data types (int, float, str, bool) and perform operations like arithmetic calculations, string concatenation, and boolean expressions.\n",
    "\n",
    "2. **Conditional Statements Practice:**\n",
    "   - Write a program that takes a user's input for their age and prints whether they are a minor, adult, or senior citizen using if-elif-else statements.\n",
    "\n",
    "3. **Looping through Lists:**\n",
    "   - Create a list of numbers and use a for loop to print each number multiplied by 2.\n",
    "\n",
    "4. **Iterating over Strings:**\n",
    "   - Write a program that takes a string input from the user and prints each character of the string using a for loop.\n",
    "\n",
    "5. **Sum of Numbers:**\n",
    "   - Write a program that calculates the sum of all numbers from 1 to 100 using a for loop.\n",
    "\n",
    "6. **Printing Patterns:**\n",
    "   - Write a program to print the following pattern using nested loops:\n",
    "     ```\n",
    "     *\n",
    "     **\n",
    "     ***\n",
    "     ****\n",
    "     ***** \n",
    "     ```\n",
    "\n",
    "7. **List Manipulation:**\n",
    "   - Create a list of fruits and write a program that iterates over the list and prints each fruit in uppercase using a for loop.\n",
    "\n",
    "8. **Counting Vowels:**\n",
    "   - Write a program that takes a string input from the user and counts the number of vowels (a, e, i, o, u) using a for loop.\n",
    "\n",
    "9. **Factorial Calculation:**\n",
    "   - Write a program that takes a number input from the user and calculates its factorial using a while loop.\n",
    "\n",
    "10. **Fibonacci Sequence:**\n",
    "    - Write a program to generate the Fibonacci sequence up to a specified number of terms using a while loop.\n",
    "\n",
    "11. **List Comprehensions:**\n",
    "    - Rewrite the previous list manipulation tasks using list comprehensions instead of loops.\n",
    "\n",
    "12. **Dictionary Operations:**\n",
    "    - Create a dictionary of student names and their corresponding ages. Write a program to iterate over the dictionary and print each student's name and age.\n",
    "\n",
    "13. **Multiplication Table:**\n",
    "    - Write a program that generates the multiplication table (up to 10) for a given number input by the user using nested loops.\n",
    "\n",
    "14. **Prime Number Checker:**\n",
    "    - Write a program that takes a number input from the user and checks whether it is a prime number using a loop.\n",
    "\n",
    "15. **Temperature Converter:**\n",
    "    - Write a program that converts temperatures from Celsius to Fahrenheit and vice versa. Allow the user to choose the conversion type (C to F or F to C) using a loop.\n",
    "\n",
    "These hands-on labs will help reinforce your understanding of Python basics, including variables, data types, control flow statements, and loops, through practical exercises and programming tasks."
   ]
  },
  {
   "cell_type": "code",
   "execution_count": 1,
   "metadata": {},
   "outputs": [
    {
     "name": "stdout",
     "output_type": "stream",
     "text": [
      "Arithmetic Results:\n",
      "Addition: 13.14\n",
      "Subtraction: -6.859999999999999\n",
      "Multiplication: 20\n",
      "Division: 1.57\n",
      "Exponential: 100\n",
      "\n",
      "String Concatenation:\n",
      "Concatenated String: Hello World!\n",
      "\n",
      "Boolean Expressions:\n",
      "Greater Than Comparison: True\n",
      "Equality Check: True\n",
      "Logical AND Operation: True\n",
      "Logical OR Operation: True\n"
     ]
    }
   ],
   "source": [
    "# Create variables of different data types\n",
    "integer_var = 10\n",
    "float_var = 3.14\n",
    "string_var = \"Hello\"\n",
    "boolean_var = True\n",
    "\n",
    "# Arithmetic calculations\n",
    "addition_result = integer_var + float_var\n",
    "subtraction_result = float_var - integer_var\n",
    "multiplication_result = integer_var * 2\n",
    "division_result = float_var / 2\n",
    "exponential_result = integer_var ** 2\n",
    "\n",
    "# String concatenation\n",
    "concatenated_string = string_var + \" World!\"\n",
    "\n",
    "# Boolean expressions\n",
    "greater_than_comparison = integer_var > float_var\n",
    "equality_check = integer_var == 10\n",
    "logical_and_operation = integer_var > 5 and boolean_var\n",
    "logical_or_operation = float_var < 2 or boolean_var\n",
    "\n",
    "# Print results\n",
    "print(\"Arithmetic Results:\")\n",
    "print(\"Addition:\", addition_result)\n",
    "print(\"Subtraction:\", subtraction_result)\n",
    "print(\"Multiplication:\", multiplication_result)\n",
    "print(\"Division:\", division_result)\n",
    "print(\"Exponential:\", exponential_result)\n",
    "\n",
    "print(\"\\nString Concatenation:\")\n",
    "print(\"Concatenated String:\", concatenated_string)\n",
    "\n",
    "print(\"\\nBoolean Expressions:\")\n",
    "print(\"Greater Than Comparison:\", greater_than_comparison)\n",
    "print(\"Equality Check:\", equality_check)\n",
    "print(\"Logical AND Operation:\", logical_and_operation)\n",
    "print(\"Logical OR Operation:\", logical_or_operation)"
   ]
  },
  {
   "cell_type": "code",
   "execution_count": 3,
   "metadata": {},
   "outputs": [
    {
     "name": "stdout",
     "output_type": "stream",
     "text": [
      "You are an adult.\n"
     ]
    }
   ],
   "source": [
    "# Take user input for age\n",
    "age = int(input(\"Enter your age: \"))\n",
    "\n",
    "# Check age category\n",
    "if age < 18:\n",
    "    print(\"You are a minor.\")\n",
    "elif age >= 18 and age < 65:\n",
    "    print(\"You are an adult.\")\n",
    "else:\n",
    "    print(\"You are a senior citizen.\")\n"
   ]
  },
  {
   "cell_type": "code",
   "execution_count": 4,
   "metadata": {},
   "outputs": [
    {
     "name": "stdout",
     "output_type": "stream",
     "text": [
      "2\n",
      "4\n",
      "6\n",
      "8\n",
      "10\n"
     ]
    }
   ],
   "source": [
    "# Create a list of numbers\n",
    "numbers = [1, 2, 3, 4, 5]\n",
    "\n",
    "# Iterate over the list using a for loop\n",
    "for num in numbers:\n",
    "    # Multiply each number by 2 and print the result\n",
    "    multiplied_num = num * 2\n",
    "    print(multiplied_num)\n"
   ]
  },
  {
   "cell_type": "code",
   "execution_count": 5,
   "metadata": {},
   "outputs": [
    {
     "name": "stdout",
     "output_type": "stream",
     "text": [
      "Characters in the string:\n",
      "A\n",
      "p\n",
      "p\n",
      "l\n",
      "e\n"
     ]
    }
   ],
   "source": [
    "# Take string input from the user\n",
    "user_input = input(\"Enter a string: \")\n",
    "\n",
    "# Iterate over each character of the string using a for loop\n",
    "print(\"Characters in the string:\")\n",
    "for char in user_input:\n",
    "    print(char)\n"
   ]
  },
  {
   "cell_type": "code",
   "execution_count": 6,
   "metadata": {},
   "outputs": [
    {
     "name": "stdout",
     "output_type": "stream",
     "text": [
      "The sum of numbers from 1 to 100 is: 5050\n"
     ]
    }
   ],
   "source": [
    "# Initialize a variable to store the sum\n",
    "total_sum = 0\n",
    "\n",
    "# Iterate over numbers from 1 to 100 using a for loop\n",
    "for num in range(1, 101):\n",
    "    # Add each number to the total sum\n",
    "    total_sum += num\n",
    "\n",
    "# Print the sum\n",
    "print(\"The sum of numbers from 1 to 100 is:\", total_sum)\n"
   ]
  },
  {
   "cell_type": "code",
   "execution_count": 7,
   "metadata": {},
   "outputs": [
    {
     "name": "stdout",
     "output_type": "stream",
     "text": [
      "*\n",
      "**\n",
      "***\n",
      "****\n",
      "*****\n"
     ]
    }
   ],
   "source": [
    "# Define the number of rows for the pattern\n",
    "num_rows = 5\n",
    "\n",
    "# Outer loop to iterate over each row\n",
    "for i in range(num_rows):\n",
    "    # Inner loop to print '*' characters for each row\n",
    "    for j in range(i + 1):\n",
    "        print(\"*\", end=\"\")\n",
    "    # Move to the next line after printing '*' characters for each row\n",
    "    print()\n"
   ]
  },
  {
   "cell_type": "code",
   "execution_count": 8,
   "metadata": {},
   "outputs": [
    {
     "name": "stdout",
     "output_type": "stream",
     "text": [
      "Fruits in uppercase:\n",
      "APPLE\n",
      "BANANA\n",
      "ORANGE\n",
      "GRAPE\n",
      "KIWI\n"
     ]
    }
   ],
   "source": [
    "# Create a list of fruits\n",
    "fruits = [\"apple\", \"banana\", \"orange\", \"grape\", \"kiwi\"]\n",
    "\n",
    "# Iterate over the list using a for loop\n",
    "print(\"Fruits in uppercase:\")\n",
    "for fruit in fruits:\n",
    "    # Print each fruit in uppercase using the upper() method\n",
    "    print(fruit.upper())\n"
   ]
  },
  {
   "cell_type": "code",
   "execution_count": 9,
   "metadata": {},
   "outputs": [
    {
     "name": "stdout",
     "output_type": "stream",
     "text": [
      "Total number of vowels in the string: 2\n"
     ]
    }
   ],
   "source": [
    "# Take string input from the user\n",
    "user_input = input(\"Enter a string: \")\n",
    "\n",
    "# Initialize a variable to store the count of vowels\n",
    "vowel_count = 0\n",
    "\n",
    "# Define a list of vowels\n",
    "vowels = ['a', 'e', 'i', 'o', 'u']\n",
    "\n",
    "# Iterate over each character of the string using a for loop\n",
    "for char in user_input:\n",
    "    # Check if the character is a vowel\n",
    "    if char.lower() in vowels:\n",
    "        # Increment the vowel count if the character is a vowel\n",
    "        vowel_count += 1\n",
    "\n",
    "# Print the total count of vowels in the string\n",
    "print(\"Total number of vowels in the string:\", vowel_count)\n"
   ]
  },
  {
   "cell_type": "code",
   "execution_count": 11,
   "metadata": {},
   "outputs": [
    {
     "name": "stdout",
     "output_type": "stream",
     "text": [
      "Factorial of 23 is: 25852016738884976640000\n"
     ]
    }
   ],
   "source": [
    "# Take number input from the user\n",
    "num = int(input(\"Enter a number: \"))\n",
    "\n",
    "# Initialize variables\n",
    "factorial = 1\n",
    "counter = num\n",
    "\n",
    "# Calculate factorial using a while loop\n",
    "while counter > 0:\n",
    "    factorial *= counter\n",
    "    counter -= 1\n",
    "\n",
    "# Print the factorial\n",
    "print(\"Factorial of\", num, \"is:\", factorial)\n"
   ]
  },
  {
   "cell_type": "code",
   "execution_count": 13,
   "metadata": {},
   "outputs": [
    {
     "name": "stdout",
     "output_type": "stream",
     "text": [
      "Fibonacci sequence up to 8 terms:\n",
      "[0, 1, 1, 2, 3, 5, 8, 13]\n"
     ]
    }
   ],
   "source": [
    "# Take number of terms input from the user\n",
    "num_terms = int(input(\"Enter the number of terms: \"))\n",
    "\n",
    "# Initialize variables\n",
    "fibonacci_sequence = []\n",
    "a, b = 0, 1\n",
    "counter = 0\n",
    "\n",
    "# Generate Fibonacci sequence using a while loop\n",
    "while counter < num_terms:\n",
    "    fibonacci_sequence.append(a)\n",
    "    a, b = b, a + b\n",
    "    counter += 1\n",
    "\n",
    "# Print the Fibonacci sequence\n",
    "print(\"Fibonacci sequence up to\", num_terms, \"terms:\")\n",
    "print(fibonacci_sequence)\n"
   ]
  },
  {
   "cell_type": "code",
   "execution_count": 14,
   "metadata": {},
   "outputs": [
    {
     "name": "stdout",
     "output_type": "stream",
     "text": [
      "Fruits in uppercase:\n",
      "['APPLE', 'BANANA', 'ORANGE', 'GRAPE', 'KIWI']\n"
     ]
    }
   ],
   "source": [
    "# Create a list of fruits\n",
    "fruits = [\"apple\", \"banana\", \"orange\", \"grape\", \"kiwi\"]\n",
    "\n",
    "# Use list comprehension to print each fruit in uppercase\n",
    "print(\"Fruits in uppercase:\")\n",
    "print([fruit.upper() for fruit in fruits])\n"
   ]
  },
  {
   "cell_type": "code",
   "execution_count": 15,
   "metadata": {},
   "outputs": [
    {
     "name": "stdout",
     "output_type": "stream",
     "text": [
      "Student Names and Ages:\n",
      "Alice - 20 years old\n",
      "Bob - 22 years old\n",
      "Charlie - 21 years old\n",
      "David - 23 years old\n"
     ]
    }
   ],
   "source": [
    "# Create a dictionary of student names and ages\n",
    "students = {\"Alice\": 20, \"Bob\": 22, \"Charlie\": 21, \"David\": 23}\n",
    "\n",
    "# Iterate over the dictionary and print each student's name and age\n",
    "print(\"Student Names and Ages:\")\n",
    "for name, age in students.items():\n",
    "    print(name, \"-\", age, \"years old\")\n"
   ]
  },
  {
   "cell_type": "code",
   "execution_count": 16,
   "metadata": {},
   "outputs": [
    {
     "name": "stdout",
     "output_type": "stream",
     "text": [
      "Multiplication Table for 20 :\n",
      "20 x 1 = 20\n",
      "20 x 2 = 40\n",
      "20 x 3 = 60\n",
      "20 x 4 = 80\n",
      "20 x 5 = 100\n",
      "20 x 6 = 120\n",
      "20 x 7 = 140\n",
      "20 x 8 = 160\n",
      "20 x 9 = 180\n",
      "20 x 10 = 200\n"
     ]
    }
   ],
   "source": [
    "# Take number input from the user\n",
    "num = int(input(\"Enter a number: \"))\n",
    "\n",
    "# Generate multiplication table using nested loops\n",
    "print(\"Multiplication Table for\", num, \":\")\n",
    "for i in range(1, 11):\n",
    "    print(num, \"x\", i, \"=\", num * i)\n"
   ]
  },
  {
   "cell_type": "code",
   "execution_count": 17,
   "metadata": {},
   "outputs": [
    {
     "name": "stdout",
     "output_type": "stream",
     "text": [
      "5 is a prime number.\n"
     ]
    }
   ],
   "source": [
    "# Take number input from the user\n",
    "num = int(input(\"Enter a number: \"))\n",
    "\n",
    "# Initialize a flag to track if the number is prime\n",
    "is_prime = True\n",
    "\n",
    "# Check if the number is prime using a loop\n",
    "if num <= 1:\n",
    "    is_prime = False\n",
    "else:\n",
    "    for i in range(2, int(num ** 0.5) + 1):\n",
    "        if num % i == 0:\n",
    "            is_prime = False\n",
    "            break\n",
    "\n",
    "# Print the result\n",
    "if is_prime:\n",
    "    print(num, \"is a prime number.\")\n",
    "else:\n",
    "    print(num, \"is not a prime number.\")\n"
   ]
  },
  {
   "cell_type": "code",
   "execution_count": null,
   "metadata": {},
   "outputs": [],
   "source": []
  }
 ],
 "metadata": {
  "kernelspec": {
   "display_name": "ml_emv",
   "language": "python",
   "name": "python3"
  },
  "language_info": {
   "codemirror_mode": {
    "name": "ipython",
    "version": 3
   },
   "file_extension": ".py",
   "mimetype": "text/x-python",
   "name": "python",
   "nbconvert_exporter": "python",
   "pygments_lexer": "ipython3",
   "version": "3.11.5"
  }
 },
 "nbformat": 4,
 "nbformat_minor": 2
}
