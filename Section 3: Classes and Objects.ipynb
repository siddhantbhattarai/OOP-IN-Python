{
 "cells": [
  {
   "cell_type": "markdown",
   "metadata": {},
   "source": [
    "### Section 3: Classes and Objects\n",
    "\n",
    "#### Creating Classes:\n",
    "\n",
    "- **Syntax of class definition:**\n",
    "  - In Python, classes are defined using the `class` keyword followed by the class name and a colon `:`. \n",
    "  - Inside the class definition, you can define attributes (data) and methods (functions) that belong to the class.\n",
    "\n",
    "- **Constructors and destructors:**\n",
    "  - Constructors are special methods in Python classes that are automatically called when an object is created. \n",
    "  - In Python, the constructor method is named `__init__()` and is used to initialize object attributes.\n",
    "  - Destructors are methods that are automatically called when an object is destroyed or goes out of scope. In Python, the destructor method is named `__del__()`.\n",
    "\n",
    "- **Class attributes vs. instance attributes:**\n",
    "  - Class attributes are variables that are shared among all instances of a class. They are defined inside the class but outside of any method.\n",
    "  - Instance attributes are variables that are unique to each instance of a class. They are defined inside the constructor method `__init__()` using the `self` parameter.\n",
    "\n",
    "#### Working with Objects:\n",
    "\n",
    "- **Creating objects:**\n",
    "  - Objects are instances of a class. To create an object, you simply call the class name followed by parentheses `()`.\n",
    "  - Example: `obj = ClassName()`\n",
    "\n",
    "- **Accessing attributes and methods:**\n",
    "  - Attributes and methods of an object can be accessed using the dot `.` notation.\n",
    "  - Example: `obj.attribute`, `obj.method()`\n",
    "\n",
    "- **Understanding self parameter:**\n",
    "  - The `self` parameter is a reference to the current instance of the class. It is used to access instance attributes and methods within the class.\n",
    "  - The `self` parameter must be the first parameter in any method definition within a class.\n",
    "  \n",
    "#### Practice Questions:\n",
    "\n",
    "1. Write a Python class `Person` with attributes `name` and `age`.\n",
    "2. Implement a constructor in the `Person` class to initialize the `name` and `age` attributes.\n",
    "3. Create an object of the `Person` class and print its attributes.\n",
    "4. Define a method `say_hello()` in the `Person` class to print a greeting message.\n",
    "5. Create multiple objects of the `Person` class and call the `say_hello()` method for each object.\n",
    "6. Define a class `Circle` with attributes `radius` and `pi`.\n",
    "7. Implement a method `calculate_area()` in the `Circle` class to calculate the area of the circle.\n",
    "8. Create an object of the `Circle` class with a given radius and calculate its area.\n",
    "9. Define a class `Employee` with attributes `name`, `salary`, and `department`.\n",
    "10. Implement a method `display_info()` in the `Employee` class to display employee information.\n",
    "11. Create multiple objects of the `Employee` class and call the `display_info()` method for each object.\n",
    "12. Define a class `Student` with attributes `name`, `roll_number`, and `marks`.\n",
    "13. Implement a method `calculate_grade()` in the `Student` class to calculate the grade based on marks.\n",
    "14. Create objects of the `Student` class with different marks and call the `calculate_grade()` method for each object.\n",
    "15. Define a class `Car` with attributes `make`, `model`, and `year`.\n",
    "16. Implement a method `get_age()` in the `Car` class to calculate the age of the car.\n",
    "17. Create objects of the `Car` class with different years and call the `get_age()` method for each object.\n",
    "18. Define a class `Rectangle` with attributes `length` and `width`.\n",
    "19. Implement methods `calculate_area()` and `calculate_perimeter()` in the `Rectangle` class.\n",
    "20. Create an object of the `Rectangle` class and calculate its area and perimeter.\n",
    "21. Define a class `Book` with attributes `title`, `author`, and `publication_year`.\n",
    "22. Implement a method `display_info()` in the `Book` class to display book information.\n",
    "23. Create objects of the `Book` class with different attributes and call the `display_info()` method for each object.\n",
    "24. Define a class `BankAccount` with attributes `account_number`, `balance`, and `account_holder`.\n",
    "25. Implement methods `deposit()` and `withdraw()` in the `BankAccount` class to deposit and withdraw money from the account.\n",
    "26. Create an object of the `BankAccount` class and perform deposit and withdrawal operations.\n",
    "27. Define a class `Dog` with attributes `name`, `breed`, and `age`.\n",
    "28. Implement a method `bark()` in the `Dog` class to print a barking message.\n",
    "29. Create objects of the `Dog` class and call the `bark()` method for each object.\n",
    "30. Define a class `Product` with attributes `name`, `price`, and `quantity`.\n",
    "31. Implement a method `calculate_total()` in the `Product` class to calculate the total price of the products.\n",
    "32. Create objects of the `Product` class with different prices and quantities and call the `calculate_total()` method for each object.\n",
    "\n",
    "These practice questions cover various aspects of creating classes and objects in Python and will help reinforce your understanding of the concepts."
   ]
  },
  {
   "cell_type": "code",
   "execution_count": 1,
   "metadata": {},
   "outputs": [
    {
     "name": "stdout",
     "output_type": "stream",
     "text": [
      "Name: Alice\n",
      "Age: 25\n"
     ]
    }
   ],
   "source": [
    "class Person:\n",
    "    def __init__(self, name, age):\n",
    "        self.name = name\n",
    "        self.age = age\n",
    "\n",
    "# Example usage:\n",
    "# Create an object of the Person class\n",
    "person1 = Person(\"Alice\", 25)\n",
    "\n",
    "# Accessing attributes of the person object\n",
    "print(\"Name:\", person1.name)\n",
    "print(\"Age:\", person1.age)\n"
   ]
  },
  {
   "cell_type": "markdown",
   "metadata": {},
   "source": [
    "In this class definition:\n",
    "- The `Person` class has a constructor method `__init__()` which initializes the `name` and `age` attributes.\n",
    "- The `self` parameter is used to refer to the current instance of the class, and it is required as the first parameter in the constructor method.\n",
    "- Inside the constructor method, the `name` and `age` attributes are assigned values passed as arguments when creating an object.\n",
    "- Example usage demonstrates how to create an object of the `Person` class and access its attributes `name` and `age`."
   ]
  },
  {
   "cell_type": "code",
   "execution_count": 2,
   "metadata": {},
   "outputs": [
    {
     "name": "stdout",
     "output_type": "stream",
     "text": [
      "Name: Emily\n",
      "Age: 25\n"
     ]
    }
   ],
   "source": [
    "class Person:\n",
    "    def __init__(self, name, age):\n",
    "        self.name = name\n",
    "        self.age = age\n",
    "\n",
    "# Example usage:\n",
    "# Create an object of the Person class with name \"Emily\" and age 25\n",
    "person2 = Person(\"Emily\", 25)\n",
    "\n",
    "# Accessing attributes of the person object\n",
    "print(\"Name:\", person2.name)\n",
    "print(\"Age:\", person2.age)\n"
   ]
  },
  {
   "cell_type": "code",
   "execution_count": 3,
   "metadata": {},
   "outputs": [
    {
     "name": "stdout",
     "output_type": "stream",
     "text": [
      "Make: Toyota\n",
      "Model: Camry\n",
      "Year: 2020\n"
     ]
    }
   ],
   "source": [
    "class Car:\n",
    "    def __init__(self, make, model, year):\n",
    "        self.make = make\n",
    "        self.model = model\n",
    "        self.year = year\n",
    "        \n",
    "# Create an object of the Car class\n",
    "car1 = Car(\"Toyota\", \"Camry\", 2020)\n",
    "\n",
    "# Print the attributes of the car object\n",
    "print(\"Make:\", car1.make)\n",
    "print(\"Model:\", car1.model)\n",
    "print(\"Year:\", car1.year)\n"
   ]
  },
  {
   "cell_type": "code",
   "execution_count": 4,
   "metadata": {},
   "outputs": [
    {
     "name": "stdout",
     "output_type": "stream",
     "text": [
      "Hello, my name is Alice and I am 25 years old.\n"
     ]
    }
   ],
   "source": [
    "class Person:\n",
    "    def __init__(self, name, age):\n",
    "        self.name = name\n",
    "        self.age = age\n",
    "        \n",
    "    def say_hello(self):\n",
    "        print(\"Hello, my name is\", self.name, \"and I am\", self.age, \"years old.\")\n",
    "\n",
    "# Example usage:\n",
    "# Create an object of the Person class\n",
    "person1 = Person(\"Alice\", 25)\n",
    "\n",
    "# Call the say_hello() method for the person object\n",
    "person1.say_hello()\n"
   ]
  },
  {
   "cell_type": "markdown",
   "metadata": {},
   "source": [
    "In this example:\n",
    "- We define a new method `say_hello()` within the `Person` class.\n",
    "- The `say_hello()` method takes only one parameter `self`, which refers to the current instance of the class.\n",
    "- Inside the `say_hello()` method, we print a greeting message using the `name` and `age` attributes of the object (`self.name` and `self.age`).\n",
    "- Finally, we create an object `person1` of the `Person` class and call the `say_hello()` method for that object."
   ]
  },
  {
   "cell_type": "code",
   "execution_count": 5,
   "metadata": {},
   "outputs": [
    {
     "name": "stdout",
     "output_type": "stream",
     "text": [
      "Hello, my name is Alice and I am 25 years old.\n",
      "Hello, my name is Bob and I am 30 years old.\n",
      "Hello, my name is Charlie and I am 35 years old.\n"
     ]
    }
   ],
   "source": [
    "class Person:\n",
    "    def __init__(self, name, age):\n",
    "        self.name = name\n",
    "        self.age = age\n",
    "        \n",
    "    def say_hello(self):\n",
    "        print(\"Hello, my name is\", self.name, \"and I am\", self.age, \"years old.\")\n",
    "\n",
    "# Create multiple objects of the Person class\n",
    "person1 = Person(\"Alice\", 25)\n",
    "person2 = Person(\"Bob\", 30)\n",
    "person3 = Person(\"Charlie\", 35)\n",
    "\n",
    "# Call the say_hello() method for each person object\n",
    "person1.say_hello()\n",
    "person2.say_hello()\n",
    "person3.say_hello()\n"
   ]
  },
  {
   "cell_type": "markdown",
   "metadata": {},
   "source": [
    "In this example:\n",
    "- We create three objects (`person1`, `person2`, and `person3`) of the `Person` class with different names and ages.\n",
    "- Then, we call the `say_hello()` method for each object, which prints a greeting message containing the name and age of each person."
   ]
  },
  {
   "cell_type": "code",
   "execution_count": 6,
   "metadata": {},
   "outputs": [
    {
     "name": "stdout",
     "output_type": "stream",
     "text": [
      "Radius: 5\n",
      "Pi: 3.14159\n"
     ]
    }
   ],
   "source": [
    "class Circle:\n",
    "    # Class attribute\n",
    "    pi = 3.14159\n",
    "    \n",
    "    def __init__(self, radius):\n",
    "        # Instance attribute\n",
    "        self.radius = radius\n",
    "        \n",
    "# Create an object of the Circle class with radius 5\n",
    "circle1 = Circle(5)\n",
    "\n",
    "# Accessing attributes of the circle object\n",
    "print(\"Radius:\", circle1.radius)\n",
    "print(\"Pi:\", circle1.pi)\n"
   ]
  },
  {
   "cell_type": "code",
   "execution_count": 7,
   "metadata": {},
   "outputs": [
    {
     "name": "stdout",
     "output_type": "stream",
     "text": [
      "Area of the circle with radius 5 is: 78.53975\n"
     ]
    }
   ],
   "source": [
    "class Circle:\n",
    "    # Class attribute\n",
    "    pi = 3.14159\n",
    "    \n",
    "    def __init__(self, radius):\n",
    "        # Instance attribute\n",
    "        self.radius = radius\n",
    "    \n",
    "    def calculate_area(self):\n",
    "        # Calculate the area of the circle\n",
    "        area = self.pi * (self.radius ** 2)\n",
    "        return area\n",
    "\n",
    "# Create an object of the Circle class with radius 5\n",
    "circle1 = Circle(5)\n",
    "\n",
    "# Calculate the area of the circle\n",
    "area1 = circle1.calculate_area()\n",
    "\n",
    "# Print the calculated area\n",
    "print(\"Area of the circle with radius\", circle1.radius, \"is:\", area1)\n"
   ]
  },
  {
   "cell_type": "code",
   "execution_count": 8,
   "metadata": {},
   "outputs": [
    {
     "name": "stdout",
     "output_type": "stream",
     "text": [
      "Area of the circle with radius 7 is: 153.93791\n"
     ]
    }
   ],
   "source": [
    "class Circle:\n",
    "    # Class attribute\n",
    "    pi = 3.14159\n",
    "    \n",
    "    def __init__(self, radius):\n",
    "        # Instance attribute\n",
    "        self.radius = radius\n",
    "    \n",
    "    def calculate_area(self):\n",
    "        # Calculate the area of the circle\n",
    "        area = self.pi * (self.radius ** 2)\n",
    "        return area\n",
    "\n",
    "# Create an object of the Circle class with radius 7\n",
    "circle1 = Circle(7)\n",
    "\n",
    "# Calculate the area of the circle\n",
    "area1 = circle1.calculate_area()\n",
    "\n",
    "# Print the calculated area\n",
    "print(\"Area of the circle with radius\", circle1.radius, \"is:\", area1)\n"
   ]
  },
  {
   "cell_type": "code",
   "execution_count": 9,
   "metadata": {},
   "outputs": [
    {
     "name": "stdout",
     "output_type": "stream",
     "text": [
      "Name: John Doe\n",
      "Salary: 50000\n",
      "Department: Human Resources\n"
     ]
    }
   ],
   "source": [
    "class Employee:\n",
    "    def __init__(self, name, salary, department):\n",
    "        self.name = name\n",
    "        self.salary = salary\n",
    "        self.department = department\n",
    "\n",
    "# Create an object of the Employee class\n",
    "employee1 = Employee(\"John Doe\", 50000, \"Human Resources\")\n",
    "\n",
    "# Accessing attributes of the employee object\n",
    "print(\"Name:\", employee1.name)\n",
    "print(\"Salary:\", employee1.salary)\n",
    "print(\"Department:\", employee1.department)\n"
   ]
  },
  {
   "cell_type": "code",
   "execution_count": 10,
   "metadata": {},
   "outputs": [
    {
     "name": "stdout",
     "output_type": "stream",
     "text": [
      "Employee Information:\n",
      "Name: John Doe\n",
      "Salary: 50000\n",
      "Department: Human Resources\n"
     ]
    }
   ],
   "source": [
    "class Employee:\n",
    "    def __init__(self, name, salary, department):\n",
    "        self.name = name\n",
    "        self.salary = salary\n",
    "        self.department = department\n",
    "    \n",
    "    def display_info(self):\n",
    "        print(\"Employee Information:\")\n",
    "        print(\"Name:\", self.name)\n",
    "        print(\"Salary:\", self.salary)\n",
    "        print(\"Department:\", self.department)\n",
    "\n",
    "# Create an object of the Employee class\n",
    "employee1 = Employee(\"John Doe\", 50000, \"Human Resources\")\n",
    "\n",
    "# Call the display_info() method to display employee information\n",
    "employee1.display_info()\n"
   ]
  },
  {
   "cell_type": "code",
   "execution_count": 11,
   "metadata": {},
   "outputs": [
    {
     "name": "stdout",
     "output_type": "stream",
     "text": [
      "Employee Information:\n",
      "Name: John Doe\n",
      "Salary: 50000\n",
      "Department: Human Resources\n",
      "Employee Information:\n",
      "Name: Jane Smith\n",
      "Salary: 60000\n",
      "Department: Marketing\n",
      "Employee Information:\n",
      "Name: Michael Johnson\n",
      "Salary: 55000\n",
      "Department: Finance\n"
     ]
    }
   ],
   "source": [
    "class Employee:\n",
    "    def __init__(self, name, salary, department):\n",
    "        self.name = name\n",
    "        self.salary = salary\n",
    "        self.department = department\n",
    "    \n",
    "    def display_info(self):\n",
    "        print(\"Employee Information:\")\n",
    "        print(\"Name:\", self.name)\n",
    "        print(\"Salary:\", self.salary)\n",
    "        print(\"Department:\", self.department)\n",
    "\n",
    "# Create multiple objects of the Employee class\n",
    "employee1 = Employee(\"John Doe\", 50000, \"Human Resources\")\n",
    "employee2 = Employee(\"Jane Smith\", 60000, \"Marketing\")\n",
    "employee3 = Employee(\"Michael Johnson\", 55000, \"Finance\")\n",
    "\n",
    "# Call the display_info() method for each employee object\n",
    "employee1.display_info()\n",
    "employee2.display_info()\n",
    "employee3.display_info()\n"
   ]
  },
  {
   "cell_type": "code",
   "execution_count": 12,
   "metadata": {},
   "outputs": [
    {
     "name": "stdout",
     "output_type": "stream",
     "text": [
      "Name: Alice\n",
      "Roll Number: 101\n",
      "Marks: 85\n"
     ]
    }
   ],
   "source": [
    "class Student:\n",
    "    def __init__(self, name, roll_number, marks):\n",
    "        self.name = name\n",
    "        self.roll_number = roll_number\n",
    "        self.marks = marks\n",
    "\n",
    "# Create an object of the Student class\n",
    "student1 = Student(\"Alice\", 101, 85)\n",
    "\n",
    "# Accessing attributes of the student object\n",
    "print(\"Name:\", student1.name)\n",
    "print(\"Roll Number:\", student1.roll_number)\n",
    "print(\"Marks:\", student1.marks)\n"
   ]
  },
  {
   "cell_type": "code",
   "execution_count": 13,
   "metadata": {},
   "outputs": [
    {
     "name": "stdout",
     "output_type": "stream",
     "text": [
      "Grade for Alice is: A\n"
     ]
    }
   ],
   "source": [
    "class Student:\n",
    "    def __init__(self, name, roll_number, marks):\n",
    "        self.name = name\n",
    "        self.roll_number = roll_number\n",
    "        self.marks = marks\n",
    "    \n",
    "    def calculate_grade(self):\n",
    "        if self.marks >= 90:\n",
    "            return 'A+'\n",
    "        elif 80 <= self.marks < 90:\n",
    "            return 'A'\n",
    "        elif 70 <= self.marks < 80:\n",
    "            return 'B'\n",
    "        elif 60 <= self.marks < 70:\n",
    "            return 'C'\n",
    "        elif 50 <= self.marks < 60:\n",
    "            return 'D'\n",
    "        else:\n",
    "            return 'F'\n",
    "\n",
    "# Create an object of the Student class\n",
    "student1 = Student(\"Alice\", 101, 85)\n",
    "\n",
    "# Call the calculate_grade() method to calculate the grade\n",
    "grade = student1.calculate_grade()\n",
    "\n",
    "# Print the calculated grade\n",
    "print(\"Grade for\", student1.name, \"is:\", grade)\n"
   ]
  },
  {
   "cell_type": "code",
   "execution_count": 14,
   "metadata": {},
   "outputs": [
    {
     "name": "stdout",
     "output_type": "stream",
     "text": [
      "Grade for Alice is: A\n",
      "Grade for Bob is: B\n",
      "Grade for Charlie is: A+\n"
     ]
    }
   ],
   "source": [
    "class Student:\n",
    "    def __init__(self, name, roll_number, marks):\n",
    "        self.name = name\n",
    "        self.roll_number = roll_number\n",
    "        self.marks = marks\n",
    "    \n",
    "    def calculate_grade(self):\n",
    "        if self.marks >= 90:\n",
    "            return 'A+'\n",
    "        elif 80 <= self.marks < 90:\n",
    "            return 'A'\n",
    "        elif 70 <= self.marks < 80:\n",
    "            return 'B'\n",
    "        elif 60 <= self.marks < 70:\n",
    "            return 'C'\n",
    "        elif 50 <= self.marks < 60:\n",
    "            return 'D'\n",
    "        else:\n",
    "            return 'F'\n",
    "\n",
    "# Create multiple objects of the Student class with different marks\n",
    "student1 = Student(\"Alice\", 101, 85)\n",
    "student2 = Student(\"Bob\", 102, 75)\n",
    "student3 = Student(\"Charlie\", 103, 95)\n",
    "\n",
    "# Call the calculate_grade() method for each student object\n",
    "print(\"Grade for\", student1.name, \"is:\", student1.calculate_grade())\n",
    "print(\"Grade for\", student2.name, \"is:\", student2.calculate_grade())\n",
    "print(\"Grade for\", student3.name, \"is:\", student3.calculate_grade())\n"
   ]
  },
  {
   "cell_type": "code",
   "execution_count": 15,
   "metadata": {},
   "outputs": [
    {
     "name": "stdout",
     "output_type": "stream",
     "text": [
      "Make: Toyota\n",
      "Model: Camry\n",
      "Year: 2020\n"
     ]
    }
   ],
   "source": [
    "class Car:\n",
    "    def __init__(self, make, model, year):\n",
    "        self.make = make\n",
    "        self.model = model\n",
    "        self.year = year\n",
    "\n",
    "# Create an object of the Car class\n",
    "car1 = Car(\"Toyota\", \"Camry\", 2020)\n",
    "\n",
    "# Accessing attributes of the car object\n",
    "print(\"Make:\", car1.make)\n",
    "print(\"Model:\", car1.model)\n",
    "print(\"Year:\", car1.year)\n"
   ]
  },
  {
   "cell_type": "code",
   "execution_count": 16,
   "metadata": {},
   "outputs": [
    {
     "name": "stdout",
     "output_type": "stream",
     "text": [
      "Age of the car: 6 years\n"
     ]
    }
   ],
   "source": [
    "from datetime import datetime\n",
    "\n",
    "class Car:\n",
    "    def __init__(self, make, model, year):\n",
    "        self.make = make\n",
    "        self.model = model\n",
    "        self.year = year\n",
    "    \n",
    "    def get_age(self):\n",
    "        current_year = datetime.now().year\n",
    "        age = current_year - self.year\n",
    "        return age\n",
    "\n",
    "# Create an object of the Car class with year 2018\n",
    "car1 = Car(\"Toyota\", \"Camry\", 2018)\n",
    "\n",
    "# Call the get_age() method to get the age of the car\n",
    "age = car1.get_age()\n",
    "\n",
    "# Print the calculated age\n",
    "print(\"Age of the car:\", age, \"years\")\n"
   ]
  },
  {
   "cell_type": "code",
   "execution_count": 17,
   "metadata": {},
   "outputs": [
    {
     "name": "stdout",
     "output_type": "stream",
     "text": [
      "Age of car1: 9 years\n",
      "Age of car2: 5 years\n",
      "Age of car3: 14 years\n"
     ]
    }
   ],
   "source": [
    "from datetime import datetime\n",
    "\n",
    "class Car:\n",
    "    def __init__(self, make, model, year):\n",
    "        self.make = make\n",
    "        self.model = model\n",
    "        self.year = year\n",
    "    \n",
    "    def get_age(self):\n",
    "        current_year = datetime.now().year\n",
    "        age = current_year - self.year\n",
    "        return age\n",
    "\n",
    "# Create multiple objects of the Car class with different years\n",
    "car1 = Car(\"Toyota\", \"Camry\", 2015)\n",
    "car2 = Car(\"Ford\", \"Mustang\", 2019)\n",
    "car3 = Car(\"Honda\", \"Civic\", 2010)\n",
    "\n",
    "# Call the get_age() method for each car object\n",
    "print(\"Age of car1:\", car1.get_age(), \"years\")\n",
    "print(\"Age of car2:\", car2.get_age(), \"years\")\n",
    "print(\"Age of car3:\", car3.get_age(), \"years\")\n"
   ]
  },
  {
   "cell_type": "code",
   "execution_count": 18,
   "metadata": {},
   "outputs": [
    {
     "name": "stdout",
     "output_type": "stream",
     "text": [
      "Length: 5\n",
      "Width: 3\n"
     ]
    }
   ],
   "source": [
    "class Rectangle:\n",
    "    def __init__(self, length, width):\n",
    "        self.length = length\n",
    "        self.width = width\n",
    "\n",
    "# Create an object of the Rectangle class with length 5 and width 3\n",
    "rectangle1 = Rectangle(5, 3)\n",
    "\n",
    "# Accessing attributes of the rectangle object\n",
    "print(\"Length:\", rectangle1.length)\n",
    "print(\"Width:\", rectangle1.width)\n"
   ]
  },
  {
   "cell_type": "code",
   "execution_count": 19,
   "metadata": {},
   "outputs": [
    {
     "name": "stdout",
     "output_type": "stream",
     "text": [
      "Area of the rectangle: 15\n",
      "Perimeter of the rectangle: 16\n"
     ]
    }
   ],
   "source": [
    "class Rectangle:\n",
    "    def __init__(self, length, width):\n",
    "        self.length = length\n",
    "        self.width = width\n",
    "    \n",
    "    def calculate_area(self):\n",
    "        # Calculate the area of the rectangle\n",
    "        area = self.length * self.width\n",
    "        return area\n",
    "    \n",
    "    def calculate_perimeter(self):\n",
    "        # Calculate the perimeter of the rectangle\n",
    "        perimeter = 2 * (self.length + self.width)\n",
    "        return perimeter\n",
    "\n",
    "# Create an object of the Rectangle class with length 5 and width 3\n",
    "rectangle1 = Rectangle(5, 3)\n",
    "\n",
    "# Calculate the area and perimeter of the rectangle\n",
    "area1 = rectangle1.calculate_area()\n",
    "perimeter1 = rectangle1.calculate_perimeter()\n",
    "\n",
    "# Print the calculated area and perimeter\n",
    "print(\"Area of the rectangle:\", area1)\n",
    "print(\"Perimeter of the rectangle:\", perimeter1)\n"
   ]
  },
  {
   "cell_type": "code",
   "execution_count": 20,
   "metadata": {},
   "outputs": [
    {
     "name": "stdout",
     "output_type": "stream",
     "text": [
      "Area of the rectangle: 15\n",
      "Perimeter of the rectangle: 16\n"
     ]
    }
   ],
   "source": [
    "class Rectangle:\n",
    "    def __init__(self, length, width):\n",
    "        self.length = length\n",
    "        self.width = width\n",
    "    \n",
    "    def calculate_area(self):\n",
    "        # Calculate the area of the rectangle\n",
    "        area = self.length * self.width\n",
    "        return area\n",
    "    \n",
    "    def calculate_perimeter(self):\n",
    "        # Calculate the perimeter of the rectangle\n",
    "        perimeter = 2 * (self.length + self.width)\n",
    "        return perimeter\n",
    "\n",
    "# Create an object of the Rectangle class with length 5 and width 3\n",
    "rectangle1 = Rectangle(5, 3)\n",
    "\n",
    "# Calculate the area and perimeter of the rectangle\n",
    "area1 = rectangle1.calculate_area()\n",
    "perimeter1 = rectangle1.calculate_perimeter()\n",
    "\n",
    "# Print the calculated area and perimeter\n",
    "print(\"Area of the rectangle:\", area1)\n",
    "print(\"Perimeter of the rectangle:\", perimeter1)\n"
   ]
  },
  {
   "cell_type": "code",
   "execution_count": 21,
   "metadata": {},
   "outputs": [
    {
     "name": "stdout",
     "output_type": "stream",
     "text": [
      "Title: The Great Gatsby\n",
      "Author: F. Scott Fitzgerald\n",
      "Publication Year: 1925\n"
     ]
    }
   ],
   "source": [
    "class Book:\n",
    "    def __init__(self, title, author, publication_year):\n",
    "        self.title = title\n",
    "        self.author = author\n",
    "        self.publication_year = publication_year\n",
    "\n",
    "# Create an object of the Book class\n",
    "book1 = Book(\"The Great Gatsby\", \"F. Scott Fitzgerald\", 1925)\n",
    "\n",
    "# Accessing attributes of the book object\n",
    "print(\"Title:\", book1.title)\n",
    "print(\"Author:\", book1.author)\n",
    "print(\"Publication Year:\", book1.publication_year)\n"
   ]
  },
  {
   "cell_type": "code",
   "execution_count": 22,
   "metadata": {},
   "outputs": [
    {
     "name": "stdout",
     "output_type": "stream",
     "text": [
      "Book Information:\n",
      "Title: The Great Gatsby\n",
      "Author: F. Scott Fitzgerald\n",
      "Publication Year: 1925\n"
     ]
    }
   ],
   "source": [
    "class Book:\n",
    "    def __init__(self, title, author, publication_year):\n",
    "        self.title = title\n",
    "        self.author = author\n",
    "        self.publication_year = publication_year\n",
    "    \n",
    "    def display_info(self):\n",
    "        print(\"Book Information:\")\n",
    "        print(\"Title:\", self.title)\n",
    "        print(\"Author:\", self.author)\n",
    "        print(\"Publication Year:\", self.publication_year)\n",
    "\n",
    "# Create an object of the Book class\n",
    "book1 = Book(\"The Great Gatsby\", \"F. Scott Fitzgerald\", 1925)\n",
    "\n",
    "# Call the display_info() method to display book information\n",
    "book1.display_info()\n"
   ]
  },
  {
   "cell_type": "code",
   "execution_count": 23,
   "metadata": {},
   "outputs": [
    {
     "name": "stdout",
     "output_type": "stream",
     "text": [
      "Book Information:\n",
      "Title: To Kill a Mockingbird\n",
      "Author: Harper Lee\n",
      "Publication Year: 1960\n",
      "Book Information:\n",
      "Title: 1984\n",
      "Author: George Orwell\n",
      "Publication Year: 1949\n",
      "Book Information:\n",
      "Title: The Catcher in the Rye\n",
      "Author: J.D. Salinger\n",
      "Publication Year: 1951\n"
     ]
    }
   ],
   "source": [
    "class Book:\n",
    "    def __init__(self, title, author, publication_year):\n",
    "        self.title = title\n",
    "        self.author = author\n",
    "        self.publication_year = publication_year\n",
    "    \n",
    "    def display_info(self):\n",
    "        print(\"Book Information:\")\n",
    "        print(\"Title:\", self.title)\n",
    "        print(\"Author:\", self.author)\n",
    "        print(\"Publication Year:\", self.publication_year)\n",
    "\n",
    "# Create multiple objects of the Book class with different attributes\n",
    "book1 = Book(\"To Kill a Mockingbird\", \"Harper Lee\", 1960)\n",
    "book2 = Book(\"1984\", \"George Orwell\", 1949)\n",
    "book3 = Book(\"The Catcher in the Rye\", \"J.D. Salinger\", 1951)\n",
    "\n",
    "# Call the display_info() method for each book object\n",
    "book1.display_info()\n",
    "book2.display_info()\n",
    "book3.display_info()\n"
   ]
  },
  {
   "cell_type": "code",
   "execution_count": 24,
   "metadata": {},
   "outputs": [
    {
     "name": "stdout",
     "output_type": "stream",
     "text": [
      "Account Number: 123456789\n",
      "Balance: 5000\n",
      "Account Holder: John Doe\n"
     ]
    }
   ],
   "source": [
    "class BankAccount:\n",
    "    def __init__(self, account_number, balance, account_holder):\n",
    "        self.account_number = account_number\n",
    "        self.balance = balance\n",
    "        self.account_holder = account_holder\n",
    "\n",
    "# Create an object of the BankAccount class\n",
    "account1 = BankAccount(\"123456789\", 5000, \"John Doe\")\n",
    "\n",
    "# Accessing attributes of the bank account object\n",
    "print(\"Account Number:\", account1.account_number)\n",
    "print(\"Balance:\", account1.balance)\n",
    "print(\"Account Holder:\", account1.account_holder)\n"
   ]
  },
  {
   "cell_type": "code",
   "execution_count": 25,
   "metadata": {},
   "outputs": [
    {
     "name": "stdout",
     "output_type": "stream",
     "text": [
      "Deposited: 2000\n",
      "New Balance: 7000\n",
      "Withdrawn: 1000\n",
      "New Balance: 6000\n"
     ]
    }
   ],
   "source": [
    "class BankAccount:\n",
    "    def __init__(self, account_number, balance, account_holder):\n",
    "        self.account_number = account_number\n",
    "        self.balance = balance\n",
    "        self.account_holder = account_holder\n",
    "    \n",
    "    def deposit(self, amount):\n",
    "        # Add the deposited amount to the balance\n",
    "        self.balance += amount\n",
    "        print(\"Deposited:\", amount)\n",
    "        print(\"New Balance:\", self.balance)\n",
    "    \n",
    "    def withdraw(self, amount):\n",
    "        if self.balance >= amount:\n",
    "            # Subtract the withdrawn amount from the balance\n",
    "            self.balance -= amount\n",
    "            print(\"Withdrawn:\", amount)\n",
    "            print(\"New Balance:\", self.balance)\n",
    "        else:\n",
    "            print(\"Insufficient funds!\")\n",
    "\n",
    "# Create an object of the BankAccount class\n",
    "account1 = BankAccount(\"123456789\", 5000, \"John Doe\")\n",
    "\n",
    "# Deposit some money into the account\n",
    "account1.deposit(2000)\n",
    "\n",
    "# Withdraw some money from the account\n",
    "account1.withdraw(1000)\n"
   ]
  },
  {
   "cell_type": "code",
   "execution_count": 26,
   "metadata": {},
   "outputs": [
    {
     "name": "stdout",
     "output_type": "stream",
     "text": [
      "Deposited: 2000\n",
      "New Balance: 7000\n",
      "Withdrawn: 1000\n",
      "New Balance: 6000\n"
     ]
    }
   ],
   "source": [
    "class BankAccount:\n",
    "    def __init__(self, account_number, balance, account_holder):\n",
    "        self.account_number = account_number\n",
    "        self.balance = balance\n",
    "        self.account_holder = account_holder\n",
    "    \n",
    "    def deposit(self, amount):\n",
    "        # Add the deposited amount to the balance\n",
    "        self.balance += amount\n",
    "        print(\"Deposited:\", amount)\n",
    "        print(\"New Balance:\", self.balance)\n",
    "    \n",
    "    def withdraw(self, amount):\n",
    "        if self.balance >= amount:\n",
    "            # Subtract the withdrawn amount from the balance\n",
    "            self.balance -= amount\n",
    "            print(\"Withdrawn:\", amount)\n",
    "            print(\"New Balance:\", self.balance)\n",
    "        else:\n",
    "            print(\"Insufficient funds!\")\n",
    "\n",
    "# Create an object of the BankAccount class\n",
    "account1 = BankAccount(\"123456789\", 5000, \"John Doe\")\n",
    "\n",
    "# Deposit some money into the account\n",
    "account1.deposit(2000)\n",
    "\n",
    "# Withdraw some money from the account\n",
    "account1.withdraw(1000)\n"
   ]
  },
  {
   "cell_type": "code",
   "execution_count": 27,
   "metadata": {},
   "outputs": [
    {
     "name": "stdout",
     "output_type": "stream",
     "text": [
      "Name: Buddy\n",
      "Breed: Golden Retriever\n",
      "Age: 3\n"
     ]
    }
   ],
   "source": [
    "class Dog:\n",
    "    def __init__(self, name, breed, age):\n",
    "        self.name = name\n",
    "        self.breed = breed\n",
    "        self.age = age\n",
    "\n",
    "# Create an object of the Dog class\n",
    "dog1 = Dog(\"Buddy\", \"Golden Retriever\", 3)\n",
    "\n",
    "# Accessing attributes of the dog object\n",
    "print(\"Name:\", dog1.name)\n",
    "print(\"Breed:\", dog1.breed)\n",
    "print(\"Age:\", dog1.age)\n"
   ]
  },
  {
   "cell_type": "code",
   "execution_count": 28,
   "metadata": {},
   "outputs": [
    {
     "name": "stdout",
     "output_type": "stream",
     "text": [
      "Buddy says: Woof! Woof!\n",
      "Buddy says: Woof! Woof!\n"
     ]
    }
   ],
   "source": [
    "class Dog:\n",
    "    def __init__(self, name, breed, age):\n",
    "        self.name = name\n",
    "        self.breed = breed\n",
    "        self.age = age\n",
    "    \n",
    "    def bark(self):\n",
    "        print(f\"{self.name} says: Woof! Woof!\")\n",
    "\n",
    "# Create an object of the Dog class\n",
    "dog1 = Dog(\"Buddy\", \"Golden Retriever\", 3)\n",
    "\n",
    "# Call the bark() method to make the dog bark\n",
    "dog1.bark()\n",
    "\n",
    "# Create an object of the Dog class\n",
    "dog1 = Dog(\"Buddy\", \"Golden Retriever\", 3)\n",
    "\n",
    "# Call the bark() method to make the dog bark\n",
    "dog1.bark()\n"
   ]
  },
  {
   "cell_type": "code",
   "execution_count": 29,
   "metadata": {},
   "outputs": [
    {
     "name": "stdout",
     "output_type": "stream",
     "text": [
      "Buddy says: Woof! Woof!\n",
      "Max says: Woof! Woof!\n",
      "Charlie says: Woof! Woof!\n"
     ]
    }
   ],
   "source": [
    "class Dog:\n",
    "    def __init__(self, name, breed, age):\n",
    "        self.name = name\n",
    "        self.breed = breed\n",
    "        self.age = age\n",
    "    \n",
    "    def bark(self):\n",
    "        print(f\"{self.name} says: Woof! Woof!\")\n",
    "\n",
    "# Create multiple objects of the Dog class\n",
    "dog1 = Dog(\"Buddy\", \"Golden Retriever\", 3)\n",
    "dog2 = Dog(\"Max\", \"Labrador\", 2)\n",
    "dog3 = Dog(\"Charlie\", \"Poodle\", 5)\n",
    "\n",
    "# Call the bark() method for each dog object\n",
    "dog1.bark()\n",
    "dog2.bark()\n",
    "dog3.bark()\n"
   ]
  },
  {
   "cell_type": "code",
   "execution_count": 30,
   "metadata": {},
   "outputs": [
    {
     "name": "stdout",
     "output_type": "stream",
     "text": [
      "Name: Laptop\n",
      "Price: 1200\n",
      "Quantity: 5\n"
     ]
    }
   ],
   "source": [
    "class Product:\n",
    "    def __init__(self, name, price, quantity):\n",
    "        self.name = name\n",
    "        self.price = price\n",
    "        self.quantity = quantity\n",
    "\n",
    "# Create an object of the Product class\n",
    "product1 = Product(\"Laptop\", 1200, 5)\n",
    "\n",
    "# Accessing attributes of the product object\n",
    "print(\"Name:\", product1.name)\n",
    "print(\"Price:\", product1.price)\n",
    "print(\"Quantity:\", product1.quantity)\n"
   ]
  },
  {
   "cell_type": "code",
   "execution_count": 31,
   "metadata": {},
   "outputs": [
    {
     "name": "stdout",
     "output_type": "stream",
     "text": [
      "Total price for Laptop : 6000\n"
     ]
    }
   ],
   "source": [
    "class Product:\n",
    "    def __init__(self, name, price, quantity):\n",
    "        self.name = name\n",
    "        self.price = price\n",
    "        self.quantity = quantity\n",
    "    \n",
    "    def calculate_total(self):\n",
    "        # Calculate the total price of the products\n",
    "        total_price = self.price * self.quantity\n",
    "        return total_price\n",
    "\n",
    "# Create an object of the Product class\n",
    "product1 = Product(\"Laptop\", 1200, 5)\n",
    "\n",
    "# Call the calculate_total() method to calculate the total price\n",
    "total_price1 = product1.calculate_total()\n",
    "\n",
    "# Print the calculated total price\n",
    "print(\"Total price for\", product1.name, \":\", total_price1)\n"
   ]
  },
  {
   "cell_type": "code",
   "execution_count": 32,
   "metadata": {},
   "outputs": [
    {
     "name": "stdout",
     "output_type": "stream",
     "text": [
      "Total price for Laptop : 6000\n",
      "Total price for Phone : 2400\n",
      "Total price for Tablet : 1000\n"
     ]
    }
   ],
   "source": [
    "class Product:\n",
    "    def __init__(self, name, price, quantity):\n",
    "        self.name = name\n",
    "        self.price = price\n",
    "        self.quantity = quantity\n",
    "    \n",
    "    def calculate_total(self):\n",
    "        # Calculate the total price of the products\n",
    "        total_price = self.price * self.quantity\n",
    "        return total_price\n",
    "\n",
    "# Create multiple objects of the Product class with different prices and quantities\n",
    "product1 = Product(\"Laptop\", 1200, 5)\n",
    "product2 = Product(\"Phone\", 800, 3)\n",
    "product3 = Product(\"Tablet\", 500, 2)\n",
    "\n",
    "# Call the calculate_total() method for each product object\n",
    "total_price1 = product1.calculate_total()\n",
    "total_price2 = product2.calculate_total()\n",
    "total_price3 = product3.calculate_total()\n",
    "\n",
    "# Print the calculated total prices\n",
    "print(\"Total price for\", product1.name, \":\", total_price1)\n",
    "print(\"Total price for\", product2.name, \":\", total_price2)\n",
    "print(\"Total price for\", product3.name, \":\", total_price3)\n"
   ]
  },
  {
   "cell_type": "code",
   "execution_count": null,
   "metadata": {},
   "outputs": [],
   "source": []
  }
 ],
 "metadata": {
  "kernelspec": {
   "display_name": "ml_emv",
   "language": "python",
   "name": "python3"
  },
  "language_info": {
   "codemirror_mode": {
    "name": "ipython",
    "version": 3
   },
   "file_extension": ".py",
   "mimetype": "text/x-python",
   "name": "python",
   "nbconvert_exporter": "python",
   "pygments_lexer": "ipython3",
   "version": "3.11.5"
  }
 },
 "nbformat": 4,
 "nbformat_minor": 2
}
